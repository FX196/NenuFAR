{
 "cells": [
  {
   "cell_type": "code",
   "execution_count": 1,
   "metadata": {},
   "outputs": [],
   "source": [
    "from utils import *\n",
    "import matplotlib.pyplot as plt\n",
    "import numpy as np\n",
    "import difflib\n",
    "\n",
    "import sys\n",
    "import time"
   ]
  },
  {
   "cell_type": "code",
   "execution_count": 2,
   "metadata": {},
   "outputs": [
    {
     "data": {
      "text/plain": [
       "524288"
      ]
     },
     "execution_count": 2,
     "metadata": {},
     "output_type": "execute_result"
    }
   ],
   "source": [
    "NPOL = 2\n",
    "OBSNCHAN = 64\n",
    "NBITS = 8\n",
    "BLOCSIZE = 134217728\n",
    "NDIM = int(BLOCSIZE / (OBSNCHAN * NPOL * (NBITS/8)))//2\n",
    "NDIM"
   ]
  },
  {
   "cell_type": "code",
   "execution_count": 3,
   "metadata": {},
   "outputs": [],
   "source": [
    "source_file = open(\"../data/blc04_guppi_57899_53848_DIAG_HIP19849_0002.0000.raw\", \"rb\")"
   ]
  },
  {
   "cell_type": "code",
   "execution_count": 4,
   "metadata": {},
   "outputs": [],
   "source": [
    "def get_sample_header(file):\n",
    "    header, h_length, header_dict = read_header(file)\n",
    "    bleed_data(file, header_dict)\n",
    "    return header, header_dict"
   ]
  },
  {
   "cell_type": "code",
   "execution_count": 5,
   "metadata": {},
   "outputs": [],
   "source": [
    "#header, header_dict = get_sample_header(file)\n",
    "#print(header)"
   ]
  },
  {
   "cell_type": "code",
   "execution_count": 6,
   "metadata": {},
   "outputs": [],
   "source": [
    "pol_0 = generate_2d_normal((NDIM))\n",
    "pol_1 = generate_2d_normal((NDIM))"
   ]
  },
  {
   "cell_type": "code",
   "execution_count": 7,
   "metadata": {},
   "outputs": [],
   "source": [
    "x = np.arange(0, NDIM/10000, 0.0001)\n",
    "pol_0_real = np.int8(np.sin(x*300000*np.pi/NDIM)*127)\n",
    "pol_0_imag = pol_0_real/4\n",
    "#plt.plot(pol_0_real)\n",
    "#plt.plot(pol_0_imag)"
   ]
  },
  {
   "cell_type": "code",
   "execution_count": 8,
   "metadata": {},
   "outputs": [],
   "source": [
    "channel = generate_channel(NDIM, NPOL)\n",
    "channel[0] = pol_0_real\n",
    "channel[1] = pol_0_imag"
   ]
  },
  {
   "cell_type": "raw",
   "metadata": {},
   "source": [
    "plt.plot(channel[0])\n",
    "plt.plot(channel[1])\n",
    "plt.figure()\n",
    "plt.plot(channel[2])\n",
    "plt.plot(channel[3])"
   ]
  },
  {
   "cell_type": "raw",
   "metadata": {},
   "source": [
    "\"\"\"\n",
    "d = {\"NPOL\": 4, \"OBSNCHAN\": 64, \"NBITS\": 8,\n",
    "     \"BLOCSIZE\": 134217728, \"DIRECTIO\": 1,\n",
    "    \"OBSERVER\": \"'Yuhong Chen'\"}\n",
    "for key, value in d.items():\n",
    "    header_dict[key] = value\n",
    "d = header_dict\n",
    "header = generate_header(d)\n",
    "header_str = header.decode(\"utf-8\")\n",
    "while header_str:\n",
    "    line, header_str = header_str[0:min(80, len(header_str))], header_str[min(80, len(header_str)):]\n",
    "    print(line)\n",
    "\"\"\""
   ]
  },
  {
   "cell_type": "code",
   "execution_count": 9,
   "metadata": {},
   "outputs": [
    {
     "data": {
      "text/plain": [
       "(524288, 4)"
      ]
     },
     "execution_count": 9,
     "metadata": {},
     "output_type": "execute_result"
    }
   ],
   "source": [
    "channel = np.array(channel, dtype = np.int8)\n",
    "channel.T.shape"
   ]
  },
  {
   "cell_type": "code",
   "execution_count": 10,
   "metadata": {},
   "outputs": [
    {
     "name": "stdout",
     "output_type": "stream",
     "text": [
      "Finished Writing Data Block 0     \n",
      "Finished Writing Data Block 1     \n",
      "Finished Writing Data Block 2     \n",
      "Finished Writing Data Block 3     \n",
      "Finished Writing Data Block 4     \n",
      "Finished Writing Data Block 5     \n",
      "Finished Writing Data Block 6     \n",
      "Finished Writing Data Block 7     \n",
      "Finished Writing Data Block 8     \n",
      "Finished Writing Data Block 9     \n",
      "Finished Writing Data Block 10     \n",
      "Finished Writing Data Block 11     \n",
      "Finished Writing Data Block 12     \n",
      "Finished Writing Data Block 13     \n",
      "Finished Writing Data Block 14     \n",
      "Finished Writing Data Block 15     \n",
      "Finished Writing Data Block 16     \n",
      "Finished Writing Data Block 17     \n",
      "Finished Writing Data Block 18     \n",
      "Finished Writing Data Block 19     \n",
      "Finished Writing Data Block 20     \n",
      "Finished Writing Data Block 21     \n",
      "Finished Writing Data Block 22     \n",
      "Finished Writing Data Block 23     \n",
      "Finished Writing Data Block 24     \n",
      "Finished Writing Data Block 25     \n",
      "Finished Writing Data Block 26     \n",
      "Finished Writing Data Block 27     \n",
      "Finished Writing Data Block 28     \n",
      "Finished Writing Data Block 29     \n",
      "Finished Writing Data Block 30     \n",
      "Finished Writing Data Block 31     \n",
      "Finished Writing Data Block 32     \n",
      "Finished Writing Data Block 33     \n",
      "Finished Writing Data Block 34     \n",
      "Finished Writing Data Block 35     \n",
      "Finished Writing Data Block 36     \n",
      "Finished Writing Data Block 37     \n",
      "Finished Writing Data Block 38     \n",
      "Finished Writing Data Block 39     \n",
      "Finished Writing Data Block 40     \n",
      "Finished Writing Data Block 41     \n",
      "Finished Writing Data Block 42     \n",
      "Finished Writing Data Block 43     \n",
      "Finished Writing Data Block 44     \n",
      "Finished Writing Data Block 45     \n",
      "Finished Writing Data Block 46     \n",
      "Finished Writing Data Block 47     \n",
      "Finished Writing Data Block 48     \n",
      "Finished Writing Data Block 49     \n",
      "Finished Writing Data Block 50     \n",
      "Finished Writing Data Block 51     \n",
      "Finished Writing Data Block 52     \n",
      "Finished Writing Data Block 53     \n",
      "Finished Writing Data Block 54     \n",
      "Finished Writing Data Block 55     \n",
      "Finished Writing Data Block 56     \n",
      "Finished Writing Data Block 57     \n",
      "Finished Writing Data Block 58     \n",
      "Finished Writing Data Block 59     \n",
      "Finished Writing Data Block 60     \n",
      "Finished Writing Data Block 61     \n",
      "Finished Writing Data Block 62     \n",
      "Finished Writing Data Block 63     \n",
      "Finished Writing Data Block 64     \n",
      "Finished Writing Data Block 65     \n",
      "Finished Writing Data Block 66     \n",
      "Finished Writing Data Block 67     \n",
      "Finished Writing Data Block 68     \n",
      "Finished Writing Data Block 69     \n",
      "Finished Writing Data Block 70     \n",
      "Finished Writing Data Block 71     \n",
      "Finished Writing Data Block 72     \n",
      "Finished Writing Data Block 73     \n",
      "Finished Writing Data Block 74     \n",
      "Finished Writing Data Block 75     \n",
      "Finished Writing Data Block 76     \n",
      "Finished Writing Data Block 77     \n",
      "Finished Writing Data Block 78     \n",
      "Finished Writing Data Block 79     \n",
      "Finished Writing Data Block 80     \n",
      "Finished Writing Data Block 81     \n",
      "Finished Writing Data Block 82     \n",
      "Finished Writing Data Block 83     \n",
      "Finished Writing Data Block 84     \n",
      "Finished Writing Data Block 85     \n",
      "Finished Writing Data Block 86     \n",
      "Finished Writing Data Block 87     \n",
      "Finished Writing Data Block 88     \n",
      "Finished Writing Data Block 89     \n",
      "Finished Writing Data Block 90     \n",
      "Finished Writing Data Block 91     \n",
      "Finished Writing Data Block 92     \n",
      "Finished Writing Data Block 93     \n",
      "Finished Writing Data Block 94     \n",
      "Finished Writing Data Block 95     \n",
      "Finished Writing Data Block 96     \n",
      "Finished Writing Data Block 97     \n",
      "Finished Writing Data Block 98     \n",
      "Finished Writing Data Block 99     \n",
      "Finished Writing Data Block 100     \n",
      "Finished Writing Data Block 101     \n",
      "Finished Writing Data Block 102     \n",
      "Finished Writing Data Block 103     \n",
      "Finished Writing Data Block 104     \n",
      "Finished Writing Data Block 105     \n",
      "Finished Writing Data Block 106     \n",
      "Finished Writing Data Block 107     \n",
      "Finished Writing Data Block 108     \n",
      "Finished Writing Data Block 109     \n",
      "Finished Writing Data Block 110     \n",
      "Finished Writing Data Block 111     \n",
      "Finished Writing Data Block 112     \n",
      "Finished Writing Data Block 113     \n",
      "Finished Writing Data Block 114     \n",
      "Finished Writing Data Block 115     \n",
      "Finished Writing Data Block 116     \n",
      "Finished Writing Data Block 117     \n",
      "Finished Writing Data Block 118     \n",
      "Finished Writing Data Block 119     \n",
      "Finished Writing Data Block 120     \n",
      "Finished Writing Data Block 121     \n",
      "Finished Writing Data Block 122     \n",
      "Finished Writing Data Block 123     \n",
      "Finished Writing Data Block 124     \n",
      "Finished Writing Data Block 125     \n",
      "Finished Writing Data Block 126     \n",
      "Finished Writing Data Block 127     \n",
      "Done\n"
     ]
    }
   ],
   "source": [
    "# write\n",
    "with open(\"test-128-64.raw\", \"wb\") as file:\n",
    "    for i in range(128):\n",
    "        header, header_dict = get_sample_header(source_file)\n",
    "        d = {\"NPOL\": 4, \"OBSNCHAN\": 64, \"NBITS\": 8,\n",
    "         \"BLOCSIZE\": 134217728, \"DIRECTIO\": 1,\n",
    "        \"OBSERVER\": \"'Yuhong Chen'\"}\n",
    "        for key, value in d.items():\n",
    "            header_dict[key] = value\n",
    "        d = header_dict\n",
    "        header = generate_header(d)\n",
    "        file.write(header)\n",
    "        for j in range(64):\n",
    "            channel = generate_channel(NDIM, NPOL)\n",
    "            channel[0] = pol_0_real\n",
    "            channel[1] = pol_0_imag\n",
    "            channel = np.array(channel, dtype = np.int8)\n",
    "            print(\"Writing Channel {0} of Data Block {1}\".format(j, i), end=\"\\r\", flush=True)\n",
    "            file.write(channel.T.tobytes())\n",
    "        print(\"Finished Writing Data Block {0}     \".format(i), end=\"\\n\\r\", flush=True)\n",
    "    print(\"Done\")"
   ]
  },
  {
   "cell_type": "code",
   "execution_count": 11,
   "metadata": {},
   "outputs": [
    {
     "name": "stdout",
     "output_type": "stream",
     "text": [
      "Finished Writing Data Block 0     \n",
      "Finished Writing Data Block 1     \n",
      "Finished Writing Data Block 2     \n",
      "Finished Writing Data Block 3     \n",
      "Finished Writing Data Block 4     \n",
      "Finished Writing Data Block 5     \n",
      "Finished Writing Data Block 6     \n",
      "Finished Writing Data Block 7     \n",
      "Finished Writing Data Block 8     \n",
      "Finished Writing Data Block 9     \n",
      "Finished Writing Data Block 10     \n",
      "Finished Writing Data Block 11     \n",
      "Finished Writing Data Block 12     \n",
      "Finished Writing Data Block 13     \n",
      "Finished Writing Data Block 14     \n",
      "Finished Writing Data Block 15     \n",
      "Finished Writing Data Block 16     \n",
      "Finished Writing Data Block 17     \n",
      "Finished Writing Data Block 18     \n",
      "Finished Writing Data Block 19     \n",
      "Done\n"
     ]
    }
   ],
   "source": [
    "for i in range(20):\n",
    "    for j in range(64):\n",
    "        print(\"Writing Channel {0} of Data Block {1}\".format(j, i), end=\"\\r\", flush=True)\n",
    "    print(\"Finished Writing Data Block {0}     \".format(i), end=\"\\n\\r\", flush=True)\n",
    "print(\"Done\")"
   ]
  },
  {
   "cell_type": "code",
   "execution_count": null,
   "metadata": {},
   "outputs": [],
   "source": []
  }
 ],
 "metadata": {
  "kernelspec": {
   "display_name": "BSRC_Env",
   "language": "python",
   "name": "bsrc_env"
  },
  "language_info": {
   "codemirror_mode": {
    "name": "ipython",
    "version": 3
   },
   "file_extension": ".py",
   "mimetype": "text/x-python",
   "name": "python",
   "nbconvert_exporter": "python",
   "pygments_lexer": "ipython3",
   "version": "3.6.5"
  }
 },
 "nbformat": 4,
 "nbformat_minor": 2
}
